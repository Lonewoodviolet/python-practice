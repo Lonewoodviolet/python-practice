{
 "cells": [
  {
   "cell_type": "markdown",
   "id": "bcb91a31",
   "metadata": {},
   "source": [
    "# FreeCodeCamp practice 1: Mean-Variance-SD Calculator\n",
    "\n"
   ]
  },
  {
   "cell_type": "markdown",
   "id": "1e3818bc",
   "metadata": {},
   "source": [
    "Original link: https://www.freecodecamp.org/learn/data-analysis-with-python/data-analysis-with-python-projects/mean-variance-standard-deviation-calculator\n",
    "\n",
    "For some (technical) reason, code files in Replit did not work so I solved the problem in my personal notebook and then pushed it to my github repository."
   ]
  },
  {
   "cell_type": "markdown",
   "id": "dd649d3c",
   "metadata": {},
   "source": [
    "# My answer"
   ]
  },
  {
   "cell_type": "code",
   "execution_count": 75,
   "id": "7923c6f5",
   "metadata": {},
   "outputs": [],
   "source": [
    "def calculate(input_data):\n",
    "    if len(input_data) != 9:\n",
    "        return \"List must contain exactly nine numbers.\"\n",
    "    \n",
    "    try:\n",
    "        A = np.array(input_data).reshape(3, 3)\n",
    "        mean1 = np.mean(A,axis=0)\n",
    "        mean2 = np.mean(A,axis=1)\n",
    "        f_mean= np.mean(A)\n",
    "\n",
    "        var1 = np.var(A,axis=0)\n",
    "        var2 = np.var(A,axis=1)\n",
    "        f_var = np.var(A)\n",
    "\n",
    "        std1 = np.var(A,axis=0)\n",
    "        std2 = np.var(A,axis=1)\n",
    "        f_std = np.var(A)\n",
    "\n",
    "        min1 = np.min(A,axis=0)\n",
    "        min2 = np.min(A,axis=1)\n",
    "        f_min = np.min(A)\n",
    "\n",
    "        max1 = np.max(A,axis=0)\n",
    "        max2 = np.max(A,axis=1)\n",
    "        f_max = np.max(A)\n",
    "\n",
    "        sum1 = np.sum(A,axis=0)\n",
    "        sum2 = np.sum(A,axis=1)\n",
    "        f_sum = np.sum(A)\n",
    "\n",
    "        result = {'mean':[mean1,mean2,f_mean],\n",
    "                'variance':[var1,var2,f_var],\n",
    "                'standard deviation':[std1,std2,f_std],\n",
    "                'max':[max1,max2,f_max],\n",
    "                'min':[min1,min2,f_min],\n",
    "                'sum':[sum1,sum2,f_sum]\n",
    "               }\n",
    "        return result\n",
    "    except ValueError:\n",
    "        return print(\"List must contain nine numbers.\")"
   ]
  },
  {
   "cell_type": "markdown",
   "id": "102af7ec",
   "metadata": {},
   "source": [
    "# Result"
   ]
  },
  {
   "cell_type": "code",
   "execution_count": 76,
   "id": "614592c9",
   "metadata": {},
   "outputs": [
    {
     "data": {
      "text/plain": [
       "{'mean': [array([3., 4., 5.]), array([1., 4., 7.]), 4.0],\n",
       " 'variance': [array([6., 6., 6.]),\n",
       "  array([0.66666667, 0.66666667, 0.66666667]),\n",
       "  6.666666666666667],\n",
       " 'standard deviation': [array([6., 6., 6.]),\n",
       "  array([0.66666667, 0.66666667, 0.66666667]),\n",
       "  6.666666666666667],\n",
       " 'max': [array([6, 7, 8]), array([2, 5, 8]), 8],\n",
       " 'min': [array([0, 1, 2]), array([0, 3, 6]), 0],\n",
       " 'sum': [array([ 9, 12, 15]), array([ 3, 12, 21]), 36]}"
      ]
     },
     "execution_count": 76,
     "metadata": {},
     "output_type": "execute_result"
    }
   ],
   "source": [
    "calculate([0,1,2,3,4,5,6,7,8])"
   ]
  },
  {
   "cell_type": "markdown",
   "id": "fe3c3716",
   "metadata": {},
   "source": [
    "## Results from the test code in Replit"
   ]
  },
  {
   "cell_type": "code",
   "execution_count": 77,
   "id": "c79e8178",
   "metadata": {},
   "outputs": [
    {
     "data": {
      "text/plain": [
       "{'mean': [array([3.66666667, 5.        , 3.        ]),\n",
       "  array([3.33333333, 4.        , 4.33333333]),\n",
       "  3.888888888888889],\n",
       " 'variance': [array([9.55555556, 0.66666667, 8.66666667]),\n",
       "  array([ 3.55555556, 10.66666667,  6.22222222]),\n",
       "  6.987654320987654],\n",
       " 'standard deviation': [array([9.55555556, 0.66666667, 8.66666667]),\n",
       "  array([ 3.55555556, 10.66666667,  6.22222222]),\n",
       "  6.987654320987654],\n",
       " 'max': [array([8, 6, 7]), array([6, 8, 7]), 8],\n",
       " 'min': [array([1, 4, 0]), array([2, 0, 1]), 0],\n",
       " 'sum': [array([11, 15,  9]), array([10, 12, 13]), 35]}"
      ]
     },
     "execution_count": 77,
     "metadata": {},
     "output_type": "execute_result"
    }
   ],
   "source": [
    "calculate([2,6,2,8,4,0,1,5,7])"
   ]
  },
  {
   "cell_type": "code",
   "execution_count": 78,
   "id": "5a0d2886",
   "metadata": {},
   "outputs": [
    {
     "data": {
      "text/plain": [
       "{'mean': [array([4.66666667, 4.33333333, 2.66666667]),\n",
       "  array([5.        , 3.        , 3.66666667]),\n",
       "  3.888888888888889],\n",
       " 'variance': [array([ 9.55555556, 11.55555556,  4.22222222]),\n",
       "  array([10.66666667,  0.        , 14.88888889]),\n",
       "  9.209876543209875],\n",
       " 'standard deviation': [array([ 9.55555556, 11.55555556,  4.22222222]),\n",
       "  array([10.66666667,  0.        , 14.88888889]),\n",
       "  9.209876543209875],\n",
       " 'max': [array([9, 9, 5]), array([9, 3, 9]), 9],\n",
       " 'min': [array([2, 1, 0]), array([1, 3, 0]), 0],\n",
       " 'sum': [array([14, 13,  8]), array([15,  9, 11]), 35]}"
      ]
     },
     "execution_count": 78,
     "metadata": {},
     "output_type": "execute_result"
    }
   ],
   "source": [
    "calculate([9,1,5,3,3,3,2,9,0])"
   ]
  },
  {
   "cell_type": "markdown",
   "id": "7ad124d1",
   "metadata": {},
   "source": [
    "## Additional checking"
   ]
  },
  {
   "cell_type": "code",
   "execution_count": 79,
   "id": "637156c6",
   "metadata": {},
   "outputs": [
    {
     "data": {
      "text/plain": [
       "'List must contain exactly nine numbers.'"
      ]
     },
     "execution_count": 79,
     "metadata": {},
     "output_type": "execute_result"
    }
   ],
   "source": [
    "calculate([1,2,3,4,5,6,7,8,9,10])"
   ]
  },
  {
   "cell_type": "code",
   "execution_count": 80,
   "id": "df998fa2",
   "metadata": {},
   "outputs": [
    {
     "data": {
      "text/plain": [
       "'List must contain exactly nine numbers.'"
      ]
     },
     "execution_count": 80,
     "metadata": {},
     "output_type": "execute_result"
    }
   ],
   "source": [
    "calculate([1])"
   ]
  }
 ],
 "metadata": {
  "kernelspec": {
   "display_name": "Python 3 (ipykernel)",
   "language": "python",
   "name": "python3"
  },
  "language_info": {
   "codemirror_mode": {
    "name": "ipython",
    "version": 3
   },
   "file_extension": ".py",
   "mimetype": "text/x-python",
   "name": "python",
   "nbconvert_exporter": "python",
   "pygments_lexer": "ipython3",
   "version": "3.11.3"
  }
 },
 "nbformat": 4,
 "nbformat_minor": 5
}
